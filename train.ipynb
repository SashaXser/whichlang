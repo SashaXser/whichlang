{
 "cells": [
  {
   "cell_type": "code",
   "execution_count": 277,
   "id": "e34afb69-8f87-4073-9560-cb80c67e6ae5",
   "metadata": {
    "tags": []
   },
   "outputs": [],
   "source": [
    "import numpy as np\n",
    "import sklearn\n",
    "from sklearn import linear_model\n",
    "import polars\n",
    "from sklearn.model_selection import train_test_split\n",
    "from scipy import sparse"
   ]
  },
  {
   "cell_type": "code",
   "execution_count": 278,
   "id": "b02b8789-e927-4df5-96e1-d26706ff5fa2",
   "metadata": {
    "tags": []
   },
   "outputs": [
    {
     "data": {
      "text/plain": [
       "(299999, 2050)"
      ]
     },
     "execution_count": 278,
     "metadata": {},
     "output_type": "execute_result"
    }
   ],
   "source": [
    "df = polars.read_csv(\"train.csv\", n_rows=300000)\n",
    "df.shape"
   ]
  },
  {
   "cell_type": "code",
   "execution_count": 272,
   "id": "4e6d2504-69d1-4135-844f-1d80a1d96e04",
   "metadata": {
    "tags": []
   },
   "outputs": [
    {
     "name": "stdout",
     "output_type": "stream",
     "text": [
      "160, 171, 173, 187, 192, 196, 199, 200, 201, 202, 205, 214, 220, 223, 224, 225, 226, 227, 228, 231, 232, 233, 234, 235, 236, 237, 238, 239, 242, 243, 244, 245, 246, 249, 250, 251, 252, 333, 339, 8201, 8211, 8212, 8217, 8220, 8221, 8222, 8239\n"
     ]
    }
   ],
   "source": [
    "from collections import Counter\n",
    "counter = Counter()\n",
    "\n",
    "c = 0\n",
    "for line in open(\"dataset/archive/sentences.prepared.csv\"):\n",
    "    (rid, lang, sentence) = line.strip().split(\"\\t\", 2)\n",
    "    if lang not in {\"fra\",\"eng\", \"ita\", \"deu\", \"esp\", \"por\"}:\n",
    "        continue\n",
    "    c += 1\n",
    "    if c > 100_000:\n",
    "        break\n",
    "    for chr in sentence:\n",
    "        if ord(chr) > 128:\n",
    "            counter[chr] += 1\n",
    "letters = sorted(ord(letter) for (letter, count) in counter.most_common(100) if count >= 10)\n",
    "print(\", \".join(map(str, letters)))\n",
    "#print(letters)"
   ]
  },
  {
   "cell_type": "code",
   "execution_count": 279,
   "id": "02b5ea7b-9107-416c-8eb0-169aca0daeec",
   "metadata": {
    "tags": []
   },
   "outputs": [
    {
     "name": "stdout",
     "output_type": "stream",
     "text": [
      "(224999, 2048) (75000, 2048)\n"
     ]
    }
   ],
   "source": [
    "y = df[:, 1].to_numpy()\n",
    "X = sparse.csr_matrix(df[:, 2:].to_numpy())\n",
    "idx = df[:, 0]\n",
    "del df\n",
    "X = sklearn.preprocessing.normalize(X)\n",
    "(X_train, X_test, y_train, y_test) = train_test_split(X, y, shuffle=False)\n",
    "n_train = X_train.shape[0]\n",
    "print(X_train.shape, X_test.shape)"
   ]
  },
  {
   "cell_type": "code",
   "execution_count": 285,
   "id": "5f7408bc-da6b-4608-84e0-af67b203a748",
   "metadata": {
    "tags": []
   },
   "outputs": [
    {
     "name": "stderr",
     "output_type": "stream",
     "text": [
      "[Parallel(n_jobs=1)]: Using backend SequentialBackend with 1 concurrent workers.\n"
     ]
    },
    {
     "name": "stdout",
     "output_type": "stream",
     "text": [
      "RUNNING THE L-BFGS-B CODE\n",
      "\n",
      "           * * *\n",
      "\n",
      "Machine precision = 2.220D-16\n",
      " N =        32784     M =           10\n",
      "\n",
      "At X0         0 variables are exactly at the bounds\n",
      "\n",
      "At iterate    0    f=  6.23830D+05    |proj g|=  1.22401D+04\n"
     ]
    },
    {
     "name": "stderr",
     "output_type": "stream",
     "text": [
      " This problem is unconstrained.\n"
     ]
    },
    {
     "name": "stdout",
     "output_type": "stream",
     "text": [
      "\n",
      "At iterate   50    f=  7.62539D+03    |proj g|=  7.99568D+01\n",
      "\n",
      "At iterate  100    f=  5.25869D+03    |proj g|=  4.11683D+01\n",
      "\n",
      "           * * *\n",
      "\n",
      "Tit   = total number of iterations\n",
      "Tnf   = total number of function evaluations\n",
      "Tnint = total number of segments explored during Cauchy searches\n",
      "Skip  = number of BFGS updates skipped\n",
      "Nact  = number of active bounds at final generalized Cauchy point\n",
      "Projg = norm of the final projected gradient\n",
      "F     = final function value\n",
      "\n",
      "           * * *\n",
      "\n",
      "   N    Tit     Tnf  Tnint  Skip  Nact     Projg        F\n",
      "32784    100    111      1     0     0   4.117D+01   5.259D+03\n",
      "  F =   5258.6893316842516     \n",
      "\n",
      "STOP: TOTAL NO. of ITERATIONS REACHED LIMIT                 \n",
      "16\n"
     ]
    },
    {
     "name": "stderr",
     "output_type": "stream",
     "text": [
      "/home/fulmicoton/miniconda3/lib/python3.9/site-packages/sklearn/linear_model/_logistic.py:458: ConvergenceWarning: lbfgs failed to converge (status=1):\n",
      "STOP: TOTAL NO. of ITERATIONS REACHED LIMIT.\n",
      "\n",
      "Increase the number of iterations (max_iter) or scale the data as shown in:\n",
      "    https://scikit-learn.org/stable/modules/preprocessing.html\n",
      "Please also refer to the documentation for alternative solver options:\n",
      "    https://scikit-learn.org/stable/modules/linear_model.html#logistic-regression\n",
      "  n_iter_i = _check_optimize_result(\n",
      "[Parallel(n_jobs=1)]: Done   1 out of   1 | elapsed:   51.0s finished\n"
     ]
    },
    {
     "name": "stdout",
     "output_type": "stream",
     "text": [
      "0.9963822061431384\n",
      "0.9920266666666666\n"
     ]
    }
   ],
   "source": [
    "for C in [16]:\n",
    "    model = sklearn.linear_model.LogisticRegression(max_iter=100, penalty='l2', C=C, verbose=1, class_weight='balanced') #, l1_ratio=0.1,) # penalty='elasticnet', solver='saga') \n",
    "    model.fit(X_train, y_train)\n",
    "    print(C)\n",
    "    print((model.predict(X_train) == y_train).mean())\n",
    "    print((model.predict(X_test) == y_test).mean())"
   ]
  },
  {
   "cell_type": "code",
   "execution_count": 287,
   "id": "d47b1c8a-2d26-41aa-a537-91c86ecf77c6",
   "metadata": {
    "tags": []
   },
   "outputs": [
    {
     "name": "stdout",
     "output_type": "stream",
     "text": [
      "['ara' 'cmn' 'deu' 'eng' 'fra' 'hin' 'ita' 'jpn' 'kor' 'nld' 'por' 'rus'\n",
      " 'spa' 'swe' 'tur' 'vie']\n",
      "[[ 6862     9     4     6    16     2     0     4]\n",
      " [    6 18244    15    18    32     7     0    14]\n",
      " [    5     5  5824    15     4     7     0    11]\n",
      " [    1     9    18  9434     1    22     0    51]\n",
      " [    8     8     2     0  1773     0     0     3]\n",
      " [    1     6     8    31     3  4502     0    67]\n",
      " [    0     0     0     0     0     0 10485     0]\n",
      " [    2     3     5    30     3    47     0  4137]]\n"
     ]
    },
    {
     "data": {
      "text/plain": [
       "array([[ 101,    0,    0],\n",
       "       [   0, 2560,    5],\n",
       "       [   0,    0,  812]])"
      ]
     },
     "execution_count": 287,
     "metadata": {},
     "output_type": "execute_result"
    }
   ],
   "source": [
    "from sklearn import metrics\n",
    "print(model.classes_)\n",
    "print(sklearn.metrics.confusion_matrix(y_test, model.predict(X_test), labels=['deu', 'eng', 'fra',  'ita','nld', 'por', 'rus', 'spa']))\n",
    "\n",
    "sklearn.metrics.confusion_matrix(y_test, model.predict(X_test), labels=['kor', 'jpn', 'cmn'])"
   ]
  },
  {
   "cell_type": "code",
   "execution_count": 249,
   "id": "476077a6-2110-447a-8197-f0848777a508",
   "metadata": {
    "tags": []
   },
   "outputs": [
    {
     "name": "stdout",
     "output_type": "stream",
     "text": [
      "(568,)\n",
      "(75000,)\n",
      "spa por 10160287\n",
      "spa por 2166433\n",
      "fra nld 9942249\n",
      "deu eng 3707572\n",
      "por spa 1229725\n",
      "eng ita 10099817\n",
      "jpn cmn 140784\n",
      "spa por 5087616\n",
      "nld eng 9253614\n",
      "nld deu 1497388\n"
     ]
    }
   ],
   "source": [
    "y_predict = model.predict(X_test)\n",
    "print(np.where((y_predict == y_test) == False)[0].shape)\n",
    "print(y_predict.shape)\n",
    "i = 0 \n",
    "for row in list(np.where((y_predict == y_test) == False))[0]:\n",
    "    i += 1\n",
    "    print(y_test[row], y_predict[row], idx[int(n_train + row)])\n",
    "    if i == 10:\n",
    "        break"
   ]
  },
  {
   "cell_type": "code",
   "execution_count": 288,
   "id": "ac15d1d4-c839-4e96-89cc-724af639d231",
   "metadata": {
    "tags": []
   },
   "outputs": [
    {
     "name": "stdout",
     "output_type": "stream",
     "text": [
      "(16, 2048)\n",
      "-0.007360063958913088\n",
      "-0.008390364\n",
      "[-0.00839036  0.10523285  0.44693157 -0.12184247 -0.14644304 -0.00879355\n",
      "  0.22627594 -0.03884726 -0.00951722 -0.30811627 -0.50813296 -0.00853365\n",
      "  0.55440874 -0.38281637  0.21939595 -0.01081189]\n",
      "array('f', [-0.007360063958913088, 0.515349805355072, -0.22763466835021973, 0.170366108417511, -0.011744972318410873, 0.14689676463603973, -0.16804201900959015, -0.35776984691619873, -0.011913723312318325, -0.04814738407731056])\n"
     ]
    }
   ],
   "source": [
    "(LANG, DIM) = model.coef_.shape\n",
    "print(model.coef_.shape)\n",
    "coef = np.float32(model.coef_)\n",
    "\n",
    "print(float_array[0])\n",
    "print(coef[0,0])\n",
    "print(model.coef_[:,0])\n",
    "print(float_array[0:10])\n",
    "\n",
    "f = open(\"src/weights.rs\", \"w\")\n",
    "\n",
    "f.write(\"#[derive(Clone, Copy, Debug, Eq, PartialEq)]\\n\")\n",
    "f.write(\"pub enum Lang {\\n\")\n",
    "for lang in model.classes_:\n",
    "    f.write(\"\\t%s,\\n\" % lang.capitalize(),)\n",
    "f.write(\"}\\n\\n\")\n",
    "\n",
    "f.write(\"\"\"\n",
    "impl Lang {\n",
    "    pub fn three_letter_code(self)-> &'static str {\n",
    "        match self {\n",
    "\"\"\")\n",
    "for lang in model.classes_:\n",
    "    f.write(\"\\t\\t\\tLang::%s => \\\"%s\\\",\\n\" % (lang.capitalize(), lang))\n",
    "f.write(\"\\t\\t}\\t}\\n}\\n\\n\\n\")\n",
    "\n",
    "\n",
    "f.write(\"pub const LANGUAGES: [Lang; %d] = [\\n\\t\" % LANG)\n",
    "for lang in model.classes_:\n",
    "    f.write(\"Lang::%s, \" % lang.capitalize())\n",
    "f.write(\"];\\n\\n\")\n",
    "\n",
    "f.write(\"pub const WEIGHTS: [f32; %d] = [\\n\" % (LANG * DIM))\n",
    "for i in range(DIM):\n",
    "    f.write(\"\\t\")\n",
    "    for val in coef[:, i]:\n",
    "        f.write(\"%f, \" % val)\n",
    "    f.write(\"\\n\")\n",
    "f.write(\"];\\n\\n\")\n",
    "\n",
    "\n",
    "f.write(\"pub const INTERCEPTS: [f32; %d] = [\\n\\t\" % LANG)\n",
    "for val in model.intercept_:\n",
    "    f.write(\"%f, \" % val)\n",
    "f.write(\"];\\n\\n\")\n",
    "\n",
    "\n",
    "f.flush()\n",
    "f.close()\n"
   ]
  }
 ],
 "metadata": {
  "kernelspec": {
   "display_name": "Python 3 (ipykernel)",
   "language": "python",
   "name": "python3"
  },
  "language_info": {
   "codemirror_mode": {
    "name": "ipython",
    "version": 3
   },
   "file_extension": ".py",
   "mimetype": "text/x-python",
   "name": "python",
   "nbconvert_exporter": "python",
   "pygments_lexer": "ipython3",
   "version": "3.9.12"
  }
 },
 "nbformat": 4,
 "nbformat_minor": 5
}
